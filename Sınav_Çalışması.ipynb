{
  "nbformat": 4,
  "nbformat_minor": 0,
  "metadata": {
    "colab": {
      "provenance": [],
      "authorship_tag": "ABX9TyPfS8B5p+fO3GLIPO79DrNl"
    },
    "kernelspec": {
      "name": "python3",
      "display_name": "Python 3"
    },
    "language_info": {
      "name": "python"
    }
  },
  "cells": [
    {
      "cell_type": "markdown",
      "source": [
        "# Sınav Çalışması\n",
        "### Sorular\n",
        "\n",
        "#### Soru 1:\n",
        "Bir dersten vize notu %v, odev notu %k, final notu %i ağırlığa sahiptir. Dersten kalma geçme şartları final notunun en az 50, ortalamanında en az 60 olmasıdır.\n",
        "\n",
        "Öğrencinin v,k,i değerleri ile(0-100 arasında), vize ve ödev notu klavyeden girildiğinde finalde kaç alırsa geçeceğini hesaplayan programı yazınız."
      ],
      "metadata": {
        "id": "OOjwQsYQ0xWU"
      }
    },
    {
      "cell_type": "code",
      "source": [
        "#kullanıcıdan ağırlıkları alalım.\n",
        "\n",
        "vize_agr=float(input(\"vize ağırlığını giriniz(%cinsinden eğer 30 ise 30)\"));\n",
        "final_agr=float(input(\"final ağırlığını giriniz(%cinsinden eğer 50 ise 50)\"));\n",
        "odev_agr=float(input(\"odev ağırlığını giriniz(%cinsinden eğer 20 ise 20)\"));\n",
        "\n",
        "#kullanıcıdan vizeden ve ödevden aldığı notları alalım.\n",
        "\n",
        "vize_not= int(input(\"vize notunuzu giriniz\"));\n",
        "odev_not= int(input(\"odev notunuzu giriniz\"));\n",
        "\n",
        "def final_notu_hesap(vize_not, odev_not, vize_agr, final_agr, odev_agr):\n",
        "\n",
        "  #ortalama en az 60 olmalı durumu:\n",
        "\n",
        "  gerekli_final_notu_ort=(60 - (vize_not* vize_agr+ odev_not* odev_agr))/ final_agr\n",
        "\n",
        "  #final notu en az 50 olmalı:\n",
        "  gerekli_final_not_min=50\n",
        "\n",
        "  #iki durumda göz önüne alınınca:\n",
        "\n",
        "  gerekli_final_not=max(gerekli_final_notu_ort,gerekli_final_not_min)\n",
        "\n",
        "  return gerekli_final_not\n",
        "\n",
        "gerekli_final_not=final_notu_hesap(vize_not, odev_not, vize_agr, final_agr,odev_agr)\n",
        "\n",
        "if gerekli_final_not > 100:\n",
        "    print(\"Ne yazık ki, bu vize ve ödev notlarıyla dersten geçemezsiniz.\")\n",
        "else:\n",
        "    print(f\"Dersten geçebilmek için finalden en az {gerekli_final_not:.2f} almanız gerekiyor.\")\n",
        "\n"
      ],
      "metadata": {
        "colab": {
          "base_uri": "https://localhost:8080/"
        },
        "id": "OgOIdB6_1UJU",
        "outputId": "673bc99c-933f-4d91-900d-08d58fed9c23"
      },
      "execution_count": 9,
      "outputs": [
        {
          "output_type": "stream",
          "name": "stdout",
          "text": [
            "vize ağırlığını giriniz(%cinsinden eğer 30 ise 0.3)30\n",
            "final ağırlığını giriniz(%cinsinden eğer 50 ise 0.5)50\n",
            "odev ağırlığını giriniz(%cinsinden eğer 10 ise 0.1)20\n",
            "vize notunuzu giriniz30\n",
            "odev notunuzu giriniz50\n",
            "Dersten geçebilmek için finalden en az 50.00 almanız gerekiyor.\n"
          ]
        }
      ]
    },
    {
      "cell_type": "markdown",
      "source": [
        "#### Soru 2:\n",
        "Bir ATM için yazılım üretilmesi gerekmektedir. ATM cihazında 20tl,50tl,100tl ve 200 tl banknotlar kullanılmaktadır. Yazılımın Büyük banknotlar kaç tane kullanılarak istenilen paranın verilebileceğini belirlemesi, aynı zamanda bu banknotlar ile ödenemeyecek miktar girilrse uygunsuz olduğunu belirlemesi gerekmektedir. Bu işlemi yapacak program kodunu yazınız."
      ],
      "metadata": {
        "id": "T9ssdIhD6RMe"
      }
    },
    {
      "cell_type": "code",
      "source": [
        "def atm_para_cekme(miktar):\n",
        "    # atm bulunan banknotları yazalım.\n",
        "    banknotlar=[200,100,50,20]\n",
        "    banknot_sayisi=[0,0,0,0]\n",
        "\n",
        "    # girdi miktarının 20'nin katı olmalı\n",
        "    if miktar % 20 !=0:\n",
        "      return \"Uygunsuz miktar girdiniz\"\n",
        "\n",
        "    #miktarı büyükten küçüğe banknotlar ile ödeme:\n",
        "    for i in range(len(banknotlar)):\n",
        "      if miktar >= banknotlar[i]:\n",
        "          banknot_sayisi[i] = miktar // banknotlar[i]\n",
        "          miktar -= banknot_sayisi[i] * banknotlar[i]\n",
        "\n",
        "    # sonucları yazdır\n",
        "    sonuc = \"kullanılan banknotlar:\\n\"\n",
        "    for i in range(len(banknotlar)):\n",
        "      if banknot_sayisi[i] >0:\n",
        "        sonuc += f\"{banknotlar[i]} TL : {banknot_sayisi[i]} adet\\n\"\n",
        "\n",
        "    return sonuc\n",
        "\n",
        "miktar = int(input(\"Çekmek istediğiniz miktarı girin: \"))\n",
        "print(atm_para_cekme(miktar))\n"
      ],
      "metadata": {
        "colab": {
          "base_uri": "https://localhost:8080/"
        },
        "id": "Ash0JhKE6URf",
        "outputId": "e144168d-ba01-410c-e4a2-df37899a471a"
      },
      "execution_count": 24,
      "outputs": [
        {
          "output_type": "stream",
          "name": "stdout",
          "text": [
            "Çekmek istediğiniz miktarı girin: 45000\n",
            "kullanılan banknotlar:\n",
            "200 TL : 225 adet\n",
            "\n"
          ]
        }
      ]
    },
    {
      "cell_type": "markdown",
      "source": [
        "#### Soru 3:\n",
        "n=3 için; alttaki ekrana çıkaran\n",
        "XXXXX X X X X X X X X X X kare şeklinde çıkaran programı yazdırınız.\n"
      ],
      "metadata": {
        "id": "WOjE1apjBBvG"
      }
    },
    {
      "cell_type": "code",
      "source": [
        "def desen_ciz(n):\n",
        "    # Kare kenar uzunluğu\n",
        "    kenar = 2 * n + 1\n",
        "\n",
        "    for i in range(kenar):\n",
        "        for j in range(kenar):\n",
        "            if i == 0 or i == kenar - 1 or j == 0 or j == kenar - 1:\n",
        "                print(\"X\", end=\"\")\n",
        "            else:\n",
        "                print(\" \", end=\"\")\n",
        "        print()\n",
        "\n",
        "# n değerini al\n",
        "n = int(input(\"Kare kenarının yarı uzunluğunu girin (n): \"))\n",
        "desen_ciz(n)\n",
        "\n",
        "## kodun mantığı şu şekildedir :\n",
        "# Kenar uzunluğunu hesapla (kenar = 2 * n + 1).\n",
        "# İki iç içe döngü kullanarak kareyi satır satır oluştur.\n",
        "# İlk ve son satır/sütunları X ile doldur.\n",
        "# Geri kalan hücreleri boşluk ile doldur."
      ],
      "metadata": {
        "colab": {
          "base_uri": "https://localhost:8080/"
        },
        "id": "j4O8QiJ5BIoT",
        "outputId": "1dfde75a-27e8-415e-d5ec-82861c1bb17c"
      },
      "execution_count": 25,
      "outputs": [
        {
          "output_type": "stream",
          "name": "stdout",
          "text": [
            "Kare kenarının yarı uzunluğunu girin (n): 8\n",
            "XXXXXXXXXXXXXXXXX\n",
            "X               X\n",
            "X               X\n",
            "X               X\n",
            "X               X\n",
            "X               X\n",
            "X               X\n",
            "X               X\n",
            "X               X\n",
            "X               X\n",
            "X               X\n",
            "X               X\n",
            "X               X\n",
            "X               X\n",
            "X               X\n",
            "X               X\n",
            "XXXXXXXXXXXXXXXXX\n"
          ]
        }
      ]
    },
    {
      "cell_type": "markdown",
      "source": [
        "#### Soru 4:\n",
        "klavyeden girilen n defa x ve y sayıları kullanılan alınacak her seferinde toplamaları,farkları,çarpımları ekrana yazılacaktır.\n",
        "eger ikisi eşitse işlemler yapılmadan ve n beklenmeden\n",
        "çıkılacaktır.\n"
      ],
      "metadata": {
        "id": "pI6-kmtiCuaG"
      }
    },
    {
      "cell_type": "code",
      "source": [
        "def islemler(x,y):\n",
        "  toplam = x+y\n",
        "  cikarma = x-y\n",
        "  carpim = x*y\n",
        "  return toplam, cikarma, carpim\n",
        "\n",
        "n= int(input(\"kac kere islem yapılacak(n):\"))\n",
        "\n",
        "for i in range(n):\n",
        "  x=int(input(\"x sayısını giriniz:\"))\n",
        "  y=int(input(\"y sayısını giriniz:\"))\n",
        "\n",
        "  if(x==y):\n",
        "    print(\"x ile y eşittir\")\n",
        "    break\n",
        "\n",
        "  toplam, cikarma, carpim=islemler(x,y)\n",
        "\n",
        "  print(f\"x + y = {toplam}\")\n",
        "  print(f\"x - y = {cikarma}\")\n",
        "  print(f\"x * y = {carpim}\")\n",
        "\n",
        "\n",
        "\n",
        "\n",
        "\n",
        "\n",
        "\n",
        "\n"
      ],
      "metadata": {
        "colab": {
          "base_uri": "https://localhost:8080/"
        },
        "id": "RhIjE5-ICye1",
        "outputId": "efc02e86-aa5a-424f-a95a-4c30b21eb3f0"
      },
      "execution_count": 6,
      "outputs": [
        {
          "output_type": "stream",
          "name": "stdout",
          "text": [
            "kac kere islem yapılacak(n):5\n",
            "x sayısını giriniz:3\n",
            "y sayısını giriniz:2\n",
            "x + y = 5\n",
            "x - y = 1\n",
            "x * y = 6\n",
            "x sayısını giriniz:1\n",
            "y sayısını giriniz:6\n",
            "x + y = 7\n",
            "x - y = -5\n",
            "x * y = 6\n",
            "x sayısını giriniz:4\n",
            "y sayısını giriniz:5\n",
            "x + y = 9\n",
            "x - y = -1\n",
            "x * y = 20\n",
            "x sayısını giriniz:3\n",
            "y sayısını giriniz:2\n",
            "x + y = 5\n",
            "x - y = 1\n",
            "x * y = 6\n",
            "x sayısını giriniz:9\n",
            "y sayısını giriniz:5\n",
            "x + y = 14\n",
            "x - y = 4\n",
            "x * y = 45\n"
          ]
        }
      ]
    },
    {
      "cell_type": "markdown",
      "source": [
        "#### Soru 5:\n",
        "klavyeden girilen 2 sayının EKOK ve EBOB'unu bulan programı yazınız."
      ],
      "metadata": {
        "id": "jaBKRcKMunW9"
      }
    },
    {
      "cell_type": "code",
      "source": [
        "def ebob_bul(sayi1, sayi2):\n",
        "    # EBOB'u bulma\n",
        "    while sayi2 != 0:\n",
        "        sayi1, sayi2 = sayi2, sayi1 % sayi2\n",
        "    return sayi1\n",
        "\n",
        "def ekok_bul(sayi1, sayi2):\n",
        "    ebob = ebob_bul(sayi1, sayi2)\n",
        "    ekok = (sayi1 * sayi2) // ebob\n",
        "    return ekok\n",
        "\n",
        "sayi1 = int(input(\"1.sayiyi giriniz.\"))\n",
        "sayi2 = int(input(\"2.sayiyi giriniz.\"))\n",
        "\n",
        "ebob = ebob_bul(sayi1,sayi2)\n",
        "ekok = ekok_bul(sayi1,sayi2)\n",
        "\n",
        "print(f\"{sayi1},{sayi2}\")\n",
        "print(f\"{ebob}\")\n",
        "print(f\"{ekok}\")"
      ],
      "metadata": {
        "colab": {
          "base_uri": "https://localhost:8080/"
        },
        "id": "HdwxiizrutL-",
        "outputId": "874bfc64-b4d8-4051-b0ea-2df1dd937331"
      },
      "execution_count": 12,
      "outputs": [
        {
          "output_type": "stream",
          "name": "stdout",
          "text": [
            "1.sayiyi giriniz.18\n",
            "2.sayiyi giriniz.4\n",
            "18,4\n",
            "2\n",
            "36\n"
          ]
        }
      ]
    },
    {
      "cell_type": "markdown",
      "source": [
        "#### Soru 6:\n",
        "klavyeden girilen n e göre aşağıdaki denklemleri çözen fonksiyonları yazınız.\n",
        "\n",
        "1/2+2/3+3/4+...+n/n+1\n",
        "\n",
        "1!/2!+2!/3!+...+n!/(n+1)!\n",
        "\n",
        "f(x)=(x^2,x<0; x^2+8, 0<=x<=20; (x+2)^2 , x>20"
      ],
      "metadata": {
        "id": "yJImv0suzITd"
      }
    },
    {
      "cell_type": "code",
      "source": [
        "# İlk fonksiyon için:\n",
        "\n",
        "def ilk_denklem(n):\n",
        "  toplam = 0.0\n",
        "  for i in range(1,n+1):\n",
        "    toplam += i / (i+n)\n",
        "  return toplam\n",
        "\n",
        "n = int(input(\"n sayısını giriniz\"))\n",
        "\n",
        "sonuc = ilk_denklem(n)\n",
        "print(f\"Sonuc = {sonuc}\")\n"
      ],
      "metadata": {
        "colab": {
          "base_uri": "https://localhost:8080/"
        },
        "id": "l4StWyjzzNJG",
        "outputId": "b0c8b05d-f238-479f-cbba-fee3c06bf385"
      },
      "execution_count": 17,
      "outputs": [
        {
          "output_type": "stream",
          "name": "stdout",
          "text": [
            "n sayısını giriniz5\n",
            "Sonuc = 1.7718253968253967\n"
          ]
        }
      ]
    },
    {
      "cell_type": "code",
      "source": [
        "# İkinci fonksiyon için:\n",
        "import math\n",
        "def ikinci_denklem(n):\n",
        "  toplam = 0.0\n",
        "  for i in range(1, n+1):\n",
        "    toplam += math.factorial(i)/ math.factorial(i+n)\n",
        "  return toplam\n",
        "\n",
        "n = int(input(\"n sayısını giriniz\"))\n",
        "\n",
        "sonuc = ikinci_denklem(n)\n",
        "print(f\"Sonuc = {sonuc}\")\n"
      ],
      "metadata": {
        "colab": {
          "base_uri": "https://localhost:8080/"
        },
        "id": "r_SY8ppm0KzO",
        "outputId": "a5afb01b-fcbb-4b02-b347-1dc71fe29f49"
      },
      "execution_count": 23,
      "outputs": [
        {
          "output_type": "stream",
          "name": "stdout",
          "text": [
            "n sayısını giriniz4\n",
            "Sonuc = 0.012896825396825398\n"
          ]
        }
      ]
    },
    {
      "cell_type": "code",
      "source": [
        "# Üçüncü fonksiyon için:\n",
        "\n",
        "def ucuncu_denklem(x):\n",
        "  if x <0 :\n",
        "    return x**2\n",
        "  elif 0 <= x <= 20:\n",
        "    return x**2+8\n",
        "  else:\n",
        "    return (x+2)**2\n",
        "\n",
        "x= float(input(\"bir x değeri giriniz:\"))\n",
        "\n",
        "sonuc=ucuncu_denklem(x)\n",
        "print(sonuc)"
      ],
      "metadata": {
        "colab": {
          "base_uri": "https://localhost:8080/"
        },
        "id": "CJr08Tkz04ke",
        "outputId": "5e1c72c2-c2c2-489a-d7e0-1658f28de1f2"
      },
      "execution_count": 27,
      "outputs": [
        {
          "output_type": "stream",
          "name": "stdout",
          "text": [
            "bir x değeri giriniz:21\n",
            "529.0\n"
          ]
        }
      ]
    },
    {
      "cell_type": "markdown",
      "source": [
        "#### Soru 7:\n",
        "Yarıcapı verilen bir çemberin alanını bulan fonksiyonu yazınız."
      ],
      "metadata": {
        "id": "98Shxra71_i3"
      }
    },
    {
      "cell_type": "code",
      "source": [
        "def cember_alan_bul(x,pi=3.14):\n",
        "    alan= pi*(x**2)\n",
        "    return alan\n",
        "\n",
        "x = int(input(\"yaricap giriniz:\"))\n",
        "\n",
        "sonuc= cember_alan_bul(x,pi=3.14)\n",
        "print(sonuc)"
      ],
      "metadata": {
        "colab": {
          "base_uri": "https://localhost:8080/"
        },
        "id": "abiqUIpA2KIt",
        "outputId": "bde234dd-91e5-4dd4-ee12-1822769c112f"
      },
      "execution_count": 28,
      "outputs": [
        {
          "output_type": "stream",
          "name": "stdout",
          "text": [
            "yaricap giriniz:5\n",
            "78.5\n"
          ]
        }
      ]
    }
  ]
}